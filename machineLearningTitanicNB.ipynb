{
 "cells": [
  {
   "cell_type": "markdown",
   "metadata": {},
   "source": [
    "# Predict Survival of the Titanic Passengers"
   ]
  },
  {
   "cell_type": "markdown",
   "metadata": {},
   "source": [
    "Dataset Source: [https://ww2.amstat.org/publications/jse/v3n3/datasets.dawson.html](https://ww2.amstat.org/publications/jse/v3n3/datasets.dawson.html)"
   ]
  },
  {
   "cell_type": "markdown",
   "metadata": {},
   "source": [
    "## Table of Contents\n",
    "- [Load Libraries](#load_libraries)\n",
    "- [Access data](#access_data)\n",
    "- [Split Data into Training and Test set](#training_test)\n",
    "- [Build Naive Bayes Model](#build_model)\n",
    "- [Predict for Test data](#test_data)\n",
    "- [Evaluate the Model](#evaluate_model)"
   ]
  },
  {
   "cell_type": "markdown",
   "metadata": {},
   "source": [
    "<a id=\"load_libraries\"></a>\n",
    "## Load Libraries\n",
    "\n",
    "The Spark and Python libraries that you need are preinstalled in the notebook environment and only need to be loaded.\n",
    "\n",
    "Run the following cell to load the libraries you will work with in this notebook:"
   ]
  },
  {
   "cell_type": "code",
   "execution_count": 16,
   "metadata": {},
   "outputs": [],
   "source": [
    "# PySpark Machine Learning Library\n",
    "from pyspark.ml import Pipeline\n",
    "from pyspark.ml.classification import  NaiveBayes, MultilayerPerceptronClassifier\n",
    "from pyspark.ml.feature import HashingTF, Tokenizer\n",
    "from pyspark.sql import Row, SQLContext\n",
    "\n",
    "import os\n",
    "import sys\n",
    "from pyspark import SparkConf\n",
    "from pyspark import SparkContext\n",
    "from pyspark.sql import SQLContext\n",
    "from pyspark.sql.types import *\n",
    "\n",
    "from pyspark.mllib.regression import LabeledPoint\n",
    "from numpy import array\n",
    "\n",
    "from pyspark.ml.evaluation import MulticlassClassificationEvaluator\n",
    "# Library for confusion matrix, precision, test error\n",
    "from pyspark.mllib.evaluation import MulticlassMetrics\n",
    "# Library For Area under ROC curve and Area under precision-recall curve\n",
    "from pyspark.mllib.evaluation import BinaryClassificationMetrics\n",
    "\n",
    "# Assign resources to the application\n",
    "sqlContext = SQLContext(sc)"
   ]
  },
  {
   "cell_type": "code",
   "execution_count": 17,
   "metadata": {},
   "outputs": [],
   "source": [
    "# The data will be loaded into an array.\n",
    "# This is the summary of the data structure, including the column position and name.\n",
    "# The first filed starts from position 0. \n",
    "\n",
    "# 0 Name    -  Passenger first and last name.\n",
    "# 1 PClass  -  Passenger class (1st, 2nd, or 3rd)\n",
    "# 2 Age\n",
    "# 3 Sex\n",
    "# 4 Survived -  1 if the passenger survived;  0 if the passenger did not survive\n",
    "# 5 PersonID\n",
    "\n",
    "# Label is a target variable. PersonInfo is a list of independent variables besides unique identifier\n",
    "\n",
    "LabeledDocument = Row(\"PersonID\", \"PersonInfo\", \"label\")\n",
    "\n",
    "# Define a function that parses the raw CSV file and returns an object of type LabeledDocument\n",
    "\n",
    "def parseDocument(line):\n",
    "    values = [str(x) for x in line.split(',')] \n",
    "    if (values[4]>'0'):\n",
    "      Survived = 1.0\n",
    "    else:\n",
    "      Survived = 0.0\n",
    "        \n",
    "    textValue = str(values[1]) + \" \" + str(values[2])+\" \" + str(values[3])\n",
    "    return LabeledDocument(values[5], textValue, Survived)"
   ]
  },
  {
   "cell_type": "markdown",
   "metadata": {},
   "source": [
    "<a id=\"access_data\"></a>\n",
    "## Access Data\n",
    "Before you can access data in the data file in the Object Storage, you must setup the Spark configuration with your Object Storage credentials. \n",
    "\n",
    "To do this, click on the cell below and select the **Insert to code > Insert Spark Session DataFrame** function from the Files tab below the data file you want to work with."
   ]
  },
  {
   "cell_type": "markdown",
   "metadata": {},
   "source": [
    "<div class=\"alert alert-block alert-info\">The following code contains the credentials for a file in your IBM Cloud Object Storage. Delete the code starting from `from pyspark.sql import SparkSession` line before you run the cell.</div>"
   ]
  },
  {
   "cell_type": "code",
   "execution_count": 18,
   "metadata": {},
   "outputs": [],
   "source": [
    "# Object Storage Credentials\n",
    "import ibmos2spark\n",
    "\n",
    "# @hidden_cell\n",
    "credentials = {\n",
    "    'endpoint': 'https://s3-api.us-geo.objectstorage.service.networklayer.com',\n",
    "    'api_key': 'lue6np0RwcvhARfJIQNtvVTUt3I45m5qk9UHM6LFTc3B',\n",
    "    'service_id': 'iam-ServiceId-3ac1bdb0-c8a1-4ae8-abe0-2dd53ae4c6e9',\n",
    "    'iam_service_endpoint': 'https://iam.ng.bluemix.net/oidc/token'}\n",
    "\n",
    "configuration_name = 'os_9d550c7f6655453f915511631f5b077f_configs'\n",
    "cos = ibmos2spark.CloudObjectStorage(sc, credentials, configuration_name, 'bluemix_cos')"
   ]
  },
  {
   "cell_type": "markdown",
   "metadata": {},
   "source": [
    "Now let's load the data into a `Spark RDD` and output the number of rows and first 5 rows.\n",
    "Each project you create has a bucket in your object storage. You can get the bucket name from the project Settings page. Change the string `BUCKET` to the bucket name"
   ]
  },
  {
   "cell_type": "code",
   "execution_count": 19,
   "metadata": {},
   "outputs": [
    {
     "name": "stdout",
     "output_type": "stream",
     "text": [
      "Total records in the data set: 757\n",
      "The first 5 rows\n"
     ]
    },
    {
     "data": {
      "text/plain": [
       "[u'Name,PClass,Age,Sex,Survived,PersonID',\n",
       " u'Allen Miss Elisabeth Walton,1st,29,female,1,1',\n",
       " u'Allison Miss Helen Loraine,1st,2,female,0,2',\n",
       " u'Allison Mr Hudson Joshua Creighton,1st,30,male,0,3',\n",
       " u'Allison Mrs Hudson JC (Bessie Waldo Daniels),1st,25,female,0,4']"
      ]
     },
     "execution_count": 19,
     "metadata": {},
     "output_type": "execute_result"
    }
   ],
   "source": [
    "data = sc.textFile(cos.url('Titanic.csv', 'assignment331c5c83422a7434ab113135bf62f5fb0'))\n",
    "print \"Total records in the data set:\", data.count()\n",
    "print \"The first 5 rows\"\n",
    "data.take(5)"
   ]
  },
  {
   "cell_type": "markdown",
   "metadata": {},
   "source": [
    "Crate DataFrame from RDD"
   ]
  },
  {
   "cell_type": "code",
   "execution_count": 20,
   "metadata": {},
   "outputs": [
    {
     "name": "stdout",
     "output_type": "stream",
     "text": [
      "Number of records: 756\n",
      "First 5 records: \n"
     ]
    },
    {
     "data": {
      "text/plain": [
       "[Row(PersonID=u'1', PersonInfo=u'1st 29 female', label=1.0),\n",
       " Row(PersonID=u'2', PersonInfo=u'1st 2 female', label=0.0),\n",
       " Row(PersonID=u'3', PersonInfo=u'1st 30 male', label=0.0),\n",
       " Row(PersonID=u'4', PersonInfo=u'1st 25 female', label=0.0),\n",
       " Row(PersonID=u'5', PersonInfo=u'1st 0.92 male', label=1.0)]"
      ]
     },
     "execution_count": 20,
     "metadata": {},
     "output_type": "execute_result"
    }
   ],
   "source": [
    "#Load the data into a dataframe, parse it using the function above\n",
    "documents = data.filter(lambda s: \"Name\" not in s).map(parseDocument)\n",
    "TitanicData = documents.toDF() # ToDataFrame\n",
    "print \"Number of records: \" + str(TitanicData.count())\n",
    "print \"First 5 records: \"\n",
    "TitanicData.take(5)"
   ]
  },
  {
   "cell_type": "markdown",
   "metadata": {},
   "source": [
    "<a id=\"training_test\"></a>\n",
    "## Split Data into Training and Test set\n",
    "\n",
    "We divide the data into training and test set.  The training set is used to build the model to be used on future data, and the test set is used to evaluate the model."
   ]
  },
  {
   "cell_type": "code",
   "execution_count": 21,
   "metadata": {},
   "outputs": [
    {
     "name": "stdout",
     "output_type": "stream",
     "text": [
      "Number of records in the training set: 610\n",
      "Number of records in the test set: 146\n",
      "First 20 records in the training set: \n",
      "+--------+-------------+-----+\n",
      "|PersonID|   PersonInfo|label|\n",
      "+--------+-------------+-----+\n",
      "|       1|1st 29 female|  1.0|\n",
      "|      10|  1st 71 male|  0.0|\n",
      "|     100|  1st 46 male|  0.0|\n",
      "|     102|1st 21 female|  1.0|\n",
      "|     103|  1st 48 male|  1.0|\n",
      "|     104|1st 49 female|  1.0|\n",
      "|     106|1st 36 female|  1.0|\n",
      "|     107|  1st 55 male|  0.0|\n",
      "|     108|1st 52 female|  1.0|\n",
      "|      11|  1st 47 male|  0.0|\n",
      "|     110|1st 16 female|  1.0|\n",
      "|     111|1st 44 female|  1.0|\n",
      "|     112|1st 51 female|  1.0|\n",
      "|     114|1st 35 female|  1.0|\n",
      "|     117|1st 35 female|  1.0|\n",
      "|     118|1st 50 female|  0.0|\n",
      "|     119|  1st 49 male|  1.0|\n",
      "|     120|  1st 46 male|  0.0|\n",
      "|     121|  1st 58 male|  0.0|\n",
      "|     122|  1st 41 male|  0.0|\n",
      "+--------+-------------+-----+\n",
      "only showing top 20 rows\n",
      "\n"
     ]
    }
   ],
   "source": [
    "# Divide the data into training and test set\n",
    "(train, test) = TitanicData.randomSplit([0.8, 0.2])\n",
    "print \"Number of records in the training set: \" + str(train.count())\n",
    "print \"Number of records in the test set: \" + str(test.count())\n",
    "# Output first 20 records in the training set\n",
    "print \"First 20 records in the training set: \"\n",
    "train.show()"
   ]
  },
  {
   "cell_type": "markdown",
   "metadata": {},
   "source": [
    "<a id=\"build_model\"></a>\n",
    "## Build Naive Bayes Model\n",
    "\n",
    "We use the Pipeline of SparkML to build the Naive Bayes Model"
   ]
  },
  {
   "cell_type": "code",
   "execution_count": 22,
   "metadata": {},
   "outputs": [],
   "source": [
    "# set up Naive Bayes using Pipeline of SparkML\n",
    "tokenizer = Tokenizer(inputCol=\"PersonInfo\", outputCol=\"words\")\n",
    "hashingTF = HashingTF(inputCol=tokenizer.getOutputCol(), outputCol=\"features\")\n",
    "nb = NaiveBayes(labelCol=\"label\", featuresCol=\"features\", predictionCol=\"prediction\", smoothing=1.0, modelType=\"multinomial\")\n",
    "pipeline = Pipeline(stages=[tokenizer, hashingTF, nb])"
   ]
  },
  {
   "cell_type": "code",
   "execution_count": 23,
   "metadata": {
    "scrolled": true
   },
   "outputs": [],
   "source": [
    "# set up Naive Bayes Model\n",
    "# the stages are executed in order\n",
    "model = pipeline.fit(train)"
   ]
  },
  {
   "cell_type": "markdown",
   "metadata": {},
   "source": [
    "<a id=\"test_data\"></a>\n",
    "## Predict for Test data"
   ]
  },
  {
   "cell_type": "code",
   "execution_count": 24,
   "metadata": {},
   "outputs": [
    {
     "name": "stdout",
     "output_type": "stream",
     "text": [
      "Row(PersonInfo=u'1st 25 male', prediction=0.0, probability=DenseVector([0.9003, 0.0997]))\n",
      "Row(PersonInfo=u'1st 45 male', prediction=0.0, probability=DenseVector([0.7303, 0.2697]))\n",
      "Row(PersonInfo=u'1st 24 female', prediction=1.0, probability=DenseVector([0.3208, 0.6792]))\n",
      "Row(PersonInfo=u'1st 42 male', prediction=0.0, probability=DenseVector([0.8939, 0.1061]))\n",
      "Row(PersonInfo=u'1st 35 male', prediction=0.0, probability=DenseVector([0.828, 0.172]))\n",
      "Row(PersonInfo=u'1st 38 male', prediction=0.0, probability=DenseVector([0.9059, 0.0941]))\n",
      "Row(PersonInfo=u'1st 19 female', prediction=1.0, probability=DenseVector([0.2394, 0.7606]))\n",
      "Row(PersonInfo=u'1st 55 female', prediction=1.0, probability=DenseVector([0.2957, 0.7043]))\n",
      "Row(PersonInfo=u'1st 15 female', prediction=1.0, probability=DenseVector([0.073, 0.927]))\n",
      "Row(PersonInfo=u'1st 30 male', prediction=0.0, probability=DenseVector([0.9074, 0.0926]))\n",
      "Row(PersonInfo=u'1st 65 male', prediction=0.0, probability=DenseVector([0.8784, 0.1216]))\n",
      "Row(PersonInfo=u'1st 24 male', prediction=0.0, probability=DenseVector([0.8442, 0.1558]))\n",
      "Row(PersonInfo=u'1st 19 female', prediction=1.0, probability=DenseVector([0.2394, 0.7606]))\n",
      "Row(PersonInfo=u'1st 28 male', prediction=0.0, probability=DenseVector([0.8502, 0.1498]))\n",
      "Row(PersonInfo=u'1st 27 female', prediction=1.0, probability=DenseVector([0.3126, 0.6874]))\n",
      "Row(PersonInfo=u'1st 13 male', prediction=0.0, probability=DenseVector([0.9155, 0.0845]))\n",
      "Row(PersonInfo=u'1st 34 male', prediction=0.0, probability=DenseVector([0.9059, 0.0941]))\n",
      "Row(PersonInfo=u'1st 50 male', prediction=0.0, probability=DenseVector([0.7065, 0.2935]))\n",
      "Row(PersonInfo=u'1st 24 male', prediction=0.0, probability=DenseVector([0.8442, 0.1558]))\n",
      "Row(PersonInfo=u'1st 32 male', prediction=0.0, probability=DenseVector([0.7625, 0.2375]))\n",
      "Row(PersonInfo=u'1st 43 female', prediction=1.0, probability=DenseVector([0.4404, 0.5596]))\n",
      "Row(PersonInfo=u'1st 52 female', prediction=1.0, probability=DenseVector([0.2957, 0.7043]))\n",
      "Row(PersonInfo=u'1st 39 female', prediction=1.0, probability=DenseVector([0.2686, 0.7314]))\n",
      "Row(PersonInfo=u'1st 31 male', prediction=0.0, probability=DenseVector([0.8442, 0.1558]))\n",
      "Row(PersonInfo=u'1st 61 male', prediction=0.0, probability=DenseVector([0.9155, 0.0845]))\n",
      "Row(PersonInfo=u'1st 19 female', prediction=1.0, probability=DenseVector([0.2394, 0.7606]))\n",
      "Row(PersonInfo=u'1st 60 male', prediction=1.0, probability=DenseVector([0.4194, 0.5806]))\n",
      "Row(PersonInfo=u'1st 21 male', prediction=0.0, probability=DenseVector([0.8667, 0.1333]))\n",
      "Row(PersonInfo=u'1st 57 male', prediction=0.0, probability=DenseVector([0.9353, 0.0647]))\n",
      "Row(PersonInfo=u'1st 31 female', prediction=1.0, probability=DenseVector([0.3208, 0.6792]))\n",
      "Row(PersonInfo=u'2nd 30 male', prediction=0.0, probability=DenseVector([0.9493, 0.0507]))\n",
      "Row(PersonInfo=u'2nd 18 male', prediction=0.0, probability=DenseVector([0.9072, 0.0928]))\n",
      "Row(PersonInfo=u'2nd 23 male', prediction=0.0, probability=DenseVector([0.8858, 0.1142]))\n",
      "Row(PersonInfo=u'2nd 36 female', prediction=1.0, probability=DenseVector([0.3248, 0.6752]))\n",
      "Row(PersonInfo=u'2nd 32 male', prediction=0.0, probability=DenseVector([0.8598, 0.1402]))\n",
      "Row(PersonInfo=u'2nd 28 male', prediction=0.0, probability=DenseVector([0.9155, 0.0845]))\n",
      "Row(PersonInfo=u'2nd 27 male', prediction=0.0, probability=DenseVector([0.9088, 0.0912]))\n",
      "Row(PersonInfo=u'2nd 45 male', prediction=0.0, probability=DenseVector([0.838, 0.162]))\n",
      "Row(PersonInfo=u'2nd 25 male', prediction=0.0, probability=DenseVector([0.9452, 0.0548]))\n",
      "Row(PersonInfo=u'2nd 42 female', prediction=0.0, probability=DenseVector([0.5839, 0.4161]))\n",
      "Row(PersonInfo=u'2nd 0.83 male', prediction=0.0, probability=DenseVector([0.8734, 0.1266]))\n",
      "Row(PersonInfo=u'1st 45 female', prediction=1.0, probability=DenseVector([0.191, 0.809]))\n",
      "Row(PersonInfo=u'2nd 18 male', prediction=0.0, probability=DenseVector([0.9072, 0.0928]))\n",
      "Row(PersonInfo=u'2nd 23 male', prediction=0.0, probability=DenseVector([0.8858, 0.1142]))\n",
      "Row(PersonInfo=u'2nd 19 male', prediction=0.0, probability=DenseVector([0.8734, 0.1266]))\n",
      "Row(PersonInfo=u'2nd 50 male', prediction=0.0, probability=DenseVector([0.8214, 0.1786]))\n",
      "Row(PersonInfo=u'2nd 1 male', prediction=0.0, probability=DenseVector([0.5797, 0.4203]))\n",
      "Row(PersonInfo=u'1st 59 female', prediction=1.0, probability=DenseVector([0.4857, 0.5143]))\n",
      "Row(PersonInfo=u'2nd 24 female', prediction=1.0, probability=DenseVector([0.4742, 0.5258]))\n",
      "Row(PersonInfo=u'2nd 49 male', prediction=0.0, probability=DenseVector([0.8214, 0.1786]))\n",
      "Row(PersonInfo=u'2nd 21 male', prediction=0.0, probability=DenseVector([0.9255, 0.0745]))\n",
      "Row(PersonInfo=u'2nd 53 female', prediction=1.0, probability=DenseVector([0.2311, 0.7689]))\n",
      "Row(PersonInfo=u'1st 45 male', prediction=0.0, probability=DenseVector([0.7303, 0.2697]))\n",
      "Row(PersonInfo=u'2nd 34 female', prediction=0.0, probability=DenseVector([0.6159, 0.3841]))\n",
      "Row(PersonInfo=u'1st 53 female', prediction=1.0, probability=DenseVector([0.136, 0.864]))\n",
      "Row(PersonInfo=u'1st 11 male', prediction=0.0, probability=DenseVector([0.9155, 0.0845]))\n",
      "Row(PersonInfo=u'1st 31 female', prediction=1.0, probability=DenseVector([0.3208, 0.6792]))\n",
      "Row(PersonInfo=u'1st 31 male', prediction=0.0, probability=DenseVector([0.8442, 0.1558]))\n",
      "Row(PersonInfo=u'1st 31 male', prediction=0.0, probability=DenseVector([0.8442, 0.1558]))\n",
      "Row(PersonInfo=u'1st 49 male', prediction=0.0, probability=DenseVector([0.7065, 0.2935]))\n",
      "Row(PersonInfo=u'1st 30 male', prediction=0.0, probability=DenseVector([0.9074, 0.0926]))\n",
      "Row(PersonInfo=u'1st 64 male', prediction=0.0, probability=DenseVector([0.9003, 0.0997]))\n",
      "Row(PersonInfo=u'1st 58 female', prediction=1.0, probability=DenseVector([0.191, 0.809]))\n",
      "Row(PersonInfo=u'1st 45 female', prediction=1.0, probability=DenseVector([0.191, 0.809]))\n",
      "Row(PersonInfo=u'1st 23 male', prediction=0.0, probability=DenseVector([0.8025, 0.1975]))\n",
      "Row(PersonInfo=u'2nd 45 male', prediction=0.0, probability=DenseVector([0.838, 0.162]))\n",
      "Row(PersonInfo=u'2nd 13 female', prediction=0.0, probability=DenseVector([0.6433, 0.3567]))\n",
      "Row(PersonInfo=u'2nd 71 male', prediction=0.0, probability=DenseVector([0.9539, 0.0461]))\n",
      "Row(PersonInfo=u'2nd 32 male', prediction=0.0, probability=DenseVector([0.8598, 0.1402]))\n",
      "Row(PersonInfo=u'2nd 2 male', prediction=0.0, probability=DenseVector([0.838, 0.162]))\n",
      "Row(PersonInfo=u'2nd 3 male', prediction=0.0, probability=DenseVector([0.5797, 0.4203]))\n",
      "Row(PersonInfo=u'2nd 20 male', prediction=0.0, probability=DenseVector([0.9437, 0.0563]))\n",
      "Row(PersonInfo=u'2nd 34 male', prediction=0.0, probability=DenseVector([0.9484, 0.0516]))\n",
      "Row(PersonInfo=u'2nd 23 male', prediction=0.0, probability=DenseVector([0.8858, 0.1142]))\n",
      "Row(PersonInfo=u'2nd 50 female', prediction=1.0, probability=DenseVector([0.2862, 0.7138]))\n",
      "Row(PersonInfo=u'2nd 21 female', prediction=0.0, probability=DenseVector([0.5198, 0.4802]))\n",
      "Row(PersonInfo=u'2nd 30 female', prediction=0.0, probability=DenseVector([0.6201, 0.3799]))\n",
      "Row(PersonInfo=u'2nd 28 female', prediction=1.0, probability=DenseVector([0.4858, 0.5142]))\n",
      "Row(PersonInfo=u'2nd 28 male', prediction=0.0, probability=DenseVector([0.9155, 0.0845]))\n",
      "Row(PersonInfo=u'2nd 32 female', prediction=1.0, probability=DenseVector([0.3483, 0.6517]))\n",
      "Row(PersonInfo=u'2nd 26 female', prediction=0.0, probability=DenseVector([0.6073, 0.3927]))\n",
      "Row(PersonInfo=u'2nd 24 female', prediction=1.0, probability=DenseVector([0.4742, 0.5258]))\n",
      "Row(PersonInfo=u'3rd 41 male', prediction=0.0, probability=DenseVector([0.9656, 0.0344]))\n",
      "Row(PersonInfo=u'3rd 0.83 male', prediction=0.0, probability=DenseVector([0.944, 0.056]))\n",
      "Row(PersonInfo=u'3rd 25 male', prediction=0.0, probability=DenseVector([0.9768, 0.0232]))\n",
      "Row(PersonInfo=u'3rd 32 male', prediction=0.0, probability=DenseVector([0.9374, 0.0626]))\n",
      "Row(PersonInfo=u'3rd 39 male', prediction=0.0, probability=DenseVector([0.9516, 0.0484]))\n",
      "Row(PersonInfo=u'3rd 2 female', prediction=0.0, probability=DenseVector([0.5242, 0.4758]))\n",
      "Row(PersonInfo=u'3rd 17 female', prediction=0.0, probability=DenseVector([0.6315, 0.3685]))\n",
      "Row(PersonInfo=u'3rd 26 male', prediction=0.0, probability=DenseVector([0.9774, 0.0226]))\n",
      "Row(PersonInfo=u'3rd 24 male', prediction=0.0, probability=DenseVector([0.9619, 0.0381]))\n",
      "Row(PersonInfo=u'3rd 40 male', prediction=0.0, probability=DenseVector([0.9574, 0.0426]))\n",
      "Row(PersonInfo=u'3rd 38 female', prediction=0.0, probability=DenseVector([0.7967, 0.2033]))\n",
      "Row(PersonInfo=u'3rd 23 male', prediction=0.0, probability=DenseVector([0.9499, 0.0501]))\n",
      "Row(PersonInfo=u'3rd 32 male', prediction=0.0, probability=DenseVector([0.9374, 0.0626]))\n",
      "Row(PersonInfo=u'3rd 26 male', prediction=0.0, probability=DenseVector([0.9774, 0.0226]))\n",
      "Row(PersonInfo=u'3rd 22 male', prediction=0.0, probability=DenseVector([0.9589, 0.0411]))\n",
      "Row(PersonInfo=u'3rd 22 male', prediction=0.0, probability=DenseVector([0.9589, 0.0411]))\n",
      "Row(PersonInfo=u'3rd 35 male', prediction=0.0, probability=DenseVector([0.9574, 0.0426]))\n",
      "Row(PersonInfo=u'3rd 18 male', prediction=0.0, probability=DenseVector([0.9598, 0.0402]))\n",
      "Row(PersonInfo=u'3rd 17 male', prediction=0.0, probability=DenseVector([0.9516, 0.0484]))\n",
      "Row(PersonInfo=u'3rd 21 male', prediction=0.0, probability=DenseVector([0.9681, 0.0319]))\n",
      "Row(PersonInfo=u'3rd 21 male', prediction=0.0, probability=DenseVector([0.9681, 0.0319]))\n",
      "Row(PersonInfo=u'3rd 28 male', prediction=0.0, probability=DenseVector([0.9636, 0.0364]))\n",
      "Row(PersonInfo=u'3rd 30 female', prediction=0.0, probability=DenseVector([0.7995, 0.2005]))\n",
      "Row(PersonInfo=u'3rd 22 female', prediction=0.0, probability=DenseVector([0.6704, 0.3296]))\n",
      "Row(PersonInfo=u'3rd 43 male', prediction=0.0, probability=DenseVector([0.9768, 0.0232]))\n",
      "Row(PersonInfo=u'3rd 3 male', prediction=0.0, probability=DenseVector([0.7712, 0.2288]))\n",
      "Row(PersonInfo=u'3rd 45 male', prediction=0.0, probability=DenseVector([0.9267, 0.0733]))\n",
      "Row(PersonInfo=u'3rd 22 female', prediction=0.0, probability=DenseVector([0.6704, 0.3296]))\n",
      "Row(PersonInfo=u'3rd 0.33 male', prediction=0.0, probability=DenseVector([0.944, 0.056]))\n",
      "Row(PersonInfo=u'3rd 36 female', prediction=0.0, probability=DenseVector([0.5403, 0.4597]))\n",
      "Row(PersonInfo=u'3rd 23 male', prediction=0.0, probability=DenseVector([0.9499, 0.0501]))\n",
      "Row(PersonInfo=u'3rd 30 female', prediction=0.0, probability=DenseVector([0.7995, 0.2005]))\n",
      "Row(PersonInfo=u'3rd 9 female', prediction=0.0, probability=DenseVector([0.71, 0.29]))\n",
      "Row(PersonInfo=u'3rd 48 female', prediction=1.0, probability=DenseVector([0.4787, 0.5213]))\n",
      "Row(PersonInfo=u'3rd 22 male', prediction=0.0, probability=DenseVector([0.9589, 0.0411]))\n",
      "Row(PersonInfo=u'3rd 16 female', prediction=0.0, probability=DenseVector([0.6381, 0.3619]))\n",
      "Row(PersonInfo=u'3rd 32 male', prediction=0.0, probability=DenseVector([0.9374, 0.0626]))\n",
      "Row(PersonInfo=u'3rd 28 male', prediction=0.0, probability=DenseVector([0.9636, 0.0364]))\n",
      "Row(PersonInfo=u'3rd 28 male', prediction=0.0, probability=DenseVector([0.9636, 0.0364]))\n",
      "Row(PersonInfo=u'3rd 24 female', prediction=0.0, probability=DenseVector([0.6879, 0.3121]))\n",
      "Row(PersonInfo=u'3rd 41 male', prediction=0.0, probability=DenseVector([0.9656, 0.0344]))\n",
      "Row(PersonInfo=u'3rd 23 female', prediction=0.0, probability=DenseVector([0.623, 0.377]))\n",
      "Row(PersonInfo=u'3rd 28 female', prediction=0.0, probability=DenseVector([0.6978, 0.3022]))\n",
      "Row(PersonInfo=u'3rd 42 male', prediction=0.0, probability=DenseVector([0.9752, 0.0248]))\n",
      "Row(PersonInfo=u'3rd 27 female', prediction=0.0, probability=DenseVector([0.6797, 0.3203]))\n",
      "Row(PersonInfo=u'3rd 33 male', prediction=0.0, probability=DenseVector([0.9506, 0.0494]))\n",
      "Row(PersonInfo=u'3rd 24 female', prediction=0.0, probability=DenseVector([0.6879, 0.3121]))\n",
      "Row(PersonInfo=u'3rd 19 male', prediction=0.0, probability=DenseVector([0.944, 0.056]))\n",
      "Row(PersonInfo=u'3rd 30 male', prediction=0.0, probability=DenseVector([0.9786, 0.0214]))\n",
      "Row(PersonInfo=u'3rd 23 male', prediction=0.0, probability=DenseVector([0.9499, 0.0501]))\n",
      "Row(PersonInfo=u'3rd 4 female', prediction=1.0, probability=DenseVector([0.3287, 0.6713]))\n",
      "Row(PersonInfo=u'3rd 39 male', prediction=0.0, probability=DenseVector([0.9516, 0.0484]))\n",
      "Row(PersonInfo=u'3rd 44 male', prediction=0.0, probability=DenseVector([0.9547, 0.0453]))\n",
      "Row(PersonInfo=u'3rd 24 male', prediction=0.0, probability=DenseVector([0.9619, 0.0381]))\n",
      "Row(PersonInfo=u'3rd 26 male', prediction=0.0, probability=DenseVector([0.9774, 0.0226]))\n",
      "Row(PersonInfo=u'3rd 29 male', prediction=0.0, probability=DenseVector([0.9737, 0.0263]))\n",
      "Row(PersonInfo=u'3rd 22 male', prediction=0.0, probability=DenseVector([0.9589, 0.0411]))\n",
      "Row(PersonInfo=u'3rd 36 male', prediction=0.0, probability=DenseVector([0.931, 0.069]))\n",
      "Row(PersonInfo=u'3rd 25 male', prediction=0.0, probability=DenseVector([0.9768, 0.0232]))\n",
      "Row(PersonInfo=u'3rd 31 female', prediction=0.0, probability=DenseVector([0.6879, 0.3121]))\n",
      "Row(PersonInfo=u'3rd 15 male', prediction=0.0, probability=DenseVector([0.8082, 0.1918]))\n",
      "Row(PersonInfo=u'3rd 36 male', prediction=0.0, probability=DenseVector([0.931, 0.069]))\n",
      "Row(PersonInfo=u'3rd 45 female', prediction=0.0, probability=DenseVector([0.5242, 0.4758]))\n",
      "Row(PersonInfo=u'3rd 27 male', prediction=0.0, probability=DenseVector([0.9605, 0.0395]))\n"
     ]
    }
   ],
   "source": [
    "# Make predictions on test documents and print columns of interest\n",
    "prediction = model.transform(test)\n",
    "selected = prediction.select(\"PersonInfo\", \"prediction\", \"probability\")\n",
    "for row in selected.collect():\n",
    "    print row\n",
    "#for row in prediction.collect():\n",
    "#    print row"
   ]
  },
  {
   "cell_type": "code",
   "execution_count": 25,
   "metadata": {},
   "outputs": [
    {
     "name": "stdout",
     "output_type": "stream",
     "text": [
      "+----------+-----+\n",
      "|prediction|count|\n",
      "+----------+-----+\n",
      "|0.0       |119  |\n",
      "|1.0       |27   |\n",
      "+----------+-----+\n",
      "\n"
     ]
    }
   ],
   "source": [
    "#Tabulate the predicted outcome\n",
    "prediction.select(\"prediction\").groupBy(\"prediction\").count().show(truncate=False)"
   ]
  },
  {
   "cell_type": "code",
   "execution_count": 26,
   "metadata": {},
   "outputs": [
    {
     "name": "stdout",
     "output_type": "stream",
     "text": [
      "+-----+-----+\n",
      "|label|count|\n",
      "+-----+-----+\n",
      "|0.0  |85   |\n",
      "|1.0  |61   |\n",
      "+-----+-----+\n",
      "\n"
     ]
    }
   ],
   "source": [
    "#Tabulate the actual outcome\n",
    "prediction.select(\"label\").groupBy(\"label\").count().show(truncate=False)"
   ]
  },
  {
   "cell_type": "code",
   "execution_count": 27,
   "metadata": {},
   "outputs": [
    {
     "name": "stdout",
     "output_type": "stream",
     "text": [
      "+----------------+---+---+\n",
      "|label_prediction|0.0|1.0|\n",
      "+----------------+---+---+\n",
      "|             1.0| 36| 25|\n",
      "|             0.0| 83|  2|\n",
      "+----------------+---+---+\n",
      "\n"
     ]
    }
   ],
   "source": [
    "# This table shows:\n",
    "# 1. The number of survived passengers predicted as survived\n",
    "# 2. The number of survived passengers predicted as not survived\n",
    "# 3. The number of not survived passengers predicted as survived\n",
    "# 4. The number of not survived passengers predicted as not survived\n",
    "\n",
    "prediction.crosstab('label', 'prediction').show()"
   ]
  },
  {
   "cell_type": "markdown",
   "metadata": {},
   "source": [
    "<a id=\"evaluate_model\"></a>\n",
    "## Evaluate the Model\n",
    "\n",
    "We evaluate the model on a training set and on a test set.  The purpose is to measure the model's predictive accuracy, including the accuracy for new data."
   ]
  },
  {
   "cell_type": "code",
   "execution_count": 28,
   "metadata": {
    "scrolled": true
   },
   "outputs": [
    {
     "name": "stdout",
     "output_type": "stream",
     "text": [
      "F1 Measure = 0.68671679198\n",
      "Training Accuracy = 0.795081967213\n",
      "Training Error = 0.204918032787\n",
      "Precision = 0.931972789116\n",
      "Recall = 0.543650793651\n"
     ]
    }
   ],
   "source": [
    "# Evaluate the Naive Bayes model on a training set\n",
    "# Select (prediction, true label) and compute training error\n",
    "pred_nb=model.transform(train).select(\"prediction\", \"label\")\n",
    "eval_nb=MulticlassClassificationEvaluator (\n",
    "    labelCol=\"label\", predictionCol=\"prediction\", metricName=\"accuracy\")\n",
    "accuracy_nb=eval_nb.evaluate(pred_nb)\n",
    "# create RDD\n",
    "predictionAndLabels_nb=pred_nb.rdd\n",
    "metrics_nb=MulticlassMetrics(predictionAndLabels_nb)\n",
    "precision_nb=metrics_nb.precision(1.0)\n",
    "recall_nb=metrics_nb.recall(1.0)\n",
    "f1Measure_nb = metrics_nb.fMeasure(1.0, 1.0)\n",
    "print(\"F1 Measure = %s\" % f1Measure_nb)\n",
    "print (\"Training Accuracy = %s\" %accuracy_nb)\n",
    "print (\"Training Error = %s\" % (1-accuracy_nb))\n",
    "print (\"Precision = %s\" %precision_nb)\n",
    "print (\"Recall = %s\" %recall_nb)"
   ]
  },
  {
   "cell_type": "code",
   "execution_count": 29,
   "metadata": {},
   "outputs": [
    {
     "name": "stdout",
     "output_type": "stream",
     "text": [
      "F1 Measure = 0.568181818182\n",
      "Test Accuracy = 0.739726027397\n",
      "Test Error = 0.260273972603\n",
      "Precision = 0.925925925926\n",
      "Recall = 0.409836065574\n"
     ]
    }
   ],
   "source": [
    "# Evaluate the Naive Bayes model on a test set\n",
    "# Select (prediction, true label) and compute test error\n",
    "pred_nb=model.transform(test).select(\"prediction\", \"label\")\n",
    "eval_nb=MulticlassClassificationEvaluator (\n",
    "    labelCol=\"label\", predictionCol=\"prediction\", metricName=\"accuracy\")\n",
    "accuracy_nb=eval_nb.evaluate(pred_nb)\n",
    "# create RDD\n",
    "predictionAndLabels_nb=pred_nb.rdd\n",
    "metrics_nb=MulticlassMetrics(predictionAndLabels_nb)\n",
    "precision_nb=metrics_nb.precision(1.0)\n",
    "recall_nb=metrics_nb.recall(1.0)\n",
    "f1Measure_nb = metrics_nb.fMeasure(1.0, 1.0)\n",
    "print(\"F1 Measure = %s\" % f1Measure_nb)\n",
    "print (\"Test Accuracy = %s\" %accuracy_nb)\n",
    "print (\"Test Error = %s\" % (1-accuracy_nb))\n",
    "print (\"Precision = %s\" %precision_nb)\n",
    "print (\"Recall = %s\" %recall_nb)"
   ]
  },
  {
   "cell_type": "code",
   "execution_count": 30,
   "metadata": {},
   "outputs": [
    {
     "name": "stdout",
     "output_type": "stream",
     "text": [
      "Area under PR = 0.791168666983\n",
      "Area under ROC = 0.693153326905\n"
     ]
    }
   ],
   "source": [
    "bin_nb=BinaryClassificationMetrics(predictionAndLabels_nb)\n",
    "\n",
    "# Area under precision-recall curve\n",
    "print(\"Area under PR = %s\" % bin_nb.areaUnderPR)\n",
    "# Area under precision-recall curve\n",
    "print(\"Area under ROC = %s\" % bin_nb.areaUnderROC)"
   ]
  },
  {
   "cell_type": "code",
   "execution_count": null,
   "metadata": {},
   "outputs": [],
   "source": []
  }
 ],
 "metadata": {
  "kernelspec": {
   "display_name": "Python 2 with Spark 2.1",
   "language": "python",
   "name": "python2-spark21"
  },
  "language_info": {
   "codemirror_mode": {
    "name": "ipython",
    "version": 2
   },
   "file_extension": ".py",
   "mimetype": "text/x-python",
   "name": "python",
   "nbconvert_exporter": "python",
   "pygments_lexer": "ipython2",
   "version": "2.7.11"
  },
  "name": "machineLearningHAVCBluemix.ipynb"
 },
 "nbformat": 4,
 "nbformat_minor": 1
}
